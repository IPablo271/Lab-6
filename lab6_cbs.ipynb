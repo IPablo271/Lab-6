{
 "cells": [
  {
   "cell_type": "markdown",
   "metadata": {},
   "source": [
    "### Universidad del Valle de Guatemala\n",
    "#### Deep Learning\n",
    "##### Recomenadaciones basadas en contenido\n",
    "##### Integrantes:\n",
    "1. Jose Hernandez 20053\n",
    "2. Pablo Gonzalez 20362\n"
   ]
  },
  {
   "cell_type": "markdown",
   "metadata": {},
   "source": [
    "##### Impotar librerias"
   ]
  },
  {
   "cell_type": "code",
   "execution_count": 1,
   "metadata": {},
   "outputs": [],
   "source": [
    "import pandas as pd\n",
    "import numpy as np\n",
    "import matplotlib.pyplot as plt\n",
    "import seaborn as sns\n",
    "from sklearn.model_selection import train_test_split\n",
    "from sklearn.feature_extraction.text import TfidfVectorizer\n",
    "from sklearn.preprocessing import LabelEncoder\n",
    "from keras.models import Sequential\n",
    "from keras.layers import Dense\n"
   ]
  },
  {
   "cell_type": "markdown",
   "metadata": {},
   "source": [
    "#### Leer data"
   ]
  },
  {
   "cell_type": "code",
   "execution_count": 2,
   "metadata": {},
   "outputs": [],
   "source": [
    "data = pd.read_csv('./data/merged_data.csv')"
   ]
  },
  {
   "cell_type": "markdown",
   "metadata": {},
   "source": [
    "Mostrar las primeras 5 filas de la data"
   ]
  },
  {
   "cell_type": "code",
   "execution_count": 3,
   "metadata": {},
   "outputs": [
    {
     "data": {
      "text/html": [
       "<div>\n",
       "<style scoped>\n",
       "    .dataframe tbody tr th:only-of-type {\n",
       "        vertical-align: middle;\n",
       "    }\n",
       "\n",
       "    .dataframe tbody tr th {\n",
       "        vertical-align: top;\n",
       "    }\n",
       "\n",
       "    .dataframe thead th {\n",
       "        text-align: right;\n",
       "    }\n",
       "</style>\n",
       "<table border=\"1\" class=\"dataframe\">\n",
       "  <thead>\n",
       "    <tr style=\"text-align: right;\">\n",
       "      <th></th>\n",
       "      <th>User-ID</th>\n",
       "      <th>ISBN</th>\n",
       "      <th>Book-Rating</th>\n",
       "      <th>Book-Title</th>\n",
       "      <th>Book-Author</th>\n",
       "      <th>Year-Of-Publication</th>\n",
       "      <th>Publisher</th>\n",
       "    </tr>\n",
       "  </thead>\n",
       "  <tbody>\n",
       "    <tr>\n",
       "      <th>0</th>\n",
       "      <td>276725</td>\n",
       "      <td>034545104X</td>\n",
       "      <td>0</td>\n",
       "      <td>Flesh Tones: A Novel</td>\n",
       "      <td>M. J. Rose</td>\n",
       "      <td>2002</td>\n",
       "      <td>Ballantine Books</td>\n",
       "    </tr>\n",
       "    <tr>\n",
       "      <th>1</th>\n",
       "      <td>2313</td>\n",
       "      <td>034545104X</td>\n",
       "      <td>5</td>\n",
       "      <td>Flesh Tones: A Novel</td>\n",
       "      <td>M. J. Rose</td>\n",
       "      <td>2002</td>\n",
       "      <td>Ballantine Books</td>\n",
       "    </tr>\n",
       "    <tr>\n",
       "      <th>2</th>\n",
       "      <td>6543</td>\n",
       "      <td>034545104X</td>\n",
       "      <td>0</td>\n",
       "      <td>Flesh Tones: A Novel</td>\n",
       "      <td>M. J. Rose</td>\n",
       "      <td>2002</td>\n",
       "      <td>Ballantine Books</td>\n",
       "    </tr>\n",
       "    <tr>\n",
       "      <th>3</th>\n",
       "      <td>8680</td>\n",
       "      <td>034545104X</td>\n",
       "      <td>5</td>\n",
       "      <td>Flesh Tones: A Novel</td>\n",
       "      <td>M. J. Rose</td>\n",
       "      <td>2002</td>\n",
       "      <td>Ballantine Books</td>\n",
       "    </tr>\n",
       "    <tr>\n",
       "      <th>4</th>\n",
       "      <td>10314</td>\n",
       "      <td>034545104X</td>\n",
       "      <td>9</td>\n",
       "      <td>Flesh Tones: A Novel</td>\n",
       "      <td>M. J. Rose</td>\n",
       "      <td>2002</td>\n",
       "      <td>Ballantine Books</td>\n",
       "    </tr>\n",
       "  </tbody>\n",
       "</table>\n",
       "</div>"
      ],
      "text/plain": [
       "   User-ID        ISBN  Book-Rating            Book-Title Book-Author  \\\n",
       "0   276725  034545104X            0  Flesh Tones: A Novel  M. J. Rose   \n",
       "1     2313  034545104X            5  Flesh Tones: A Novel  M. J. Rose   \n",
       "2     6543  034545104X            0  Flesh Tones: A Novel  M. J. Rose   \n",
       "3     8680  034545104X            5  Flesh Tones: A Novel  M. J. Rose   \n",
       "4    10314  034545104X            9  Flesh Tones: A Novel  M. J. Rose   \n",
       "\n",
       "   Year-Of-Publication         Publisher  \n",
       "0                 2002  Ballantine Books  \n",
       "1                 2002  Ballantine Books  \n",
       "2                 2002  Ballantine Books  \n",
       "3                 2002  Ballantine Books  \n",
       "4                 2002  Ballantine Books  "
      ]
     },
     "execution_count": 3,
     "metadata": {},
     "output_type": "execute_result"
    }
   ],
   "source": [
    "data.head(5)"
   ]
  },
  {
   "cell_type": "markdown",
   "metadata": {},
   "source": [
    "Describe de las variables numericas en el dataset"
   ]
  },
  {
   "cell_type": "code",
   "execution_count": 4,
   "metadata": {},
   "outputs": [
    {
     "data": {
      "text/html": [
       "<div>\n",
       "<style scoped>\n",
       "    .dataframe tbody tr th:only-of-type {\n",
       "        vertical-align: middle;\n",
       "    }\n",
       "\n",
       "    .dataframe tbody tr th {\n",
       "        vertical-align: top;\n",
       "    }\n",
       "\n",
       "    .dataframe thead th {\n",
       "        text-align: right;\n",
       "    }\n",
       "</style>\n",
       "<table border=\"1\" class=\"dataframe\">\n",
       "  <thead>\n",
       "    <tr style=\"text-align: right;\">\n",
       "      <th></th>\n",
       "      <th>User-ID</th>\n",
       "      <th>Book-Rating</th>\n",
       "      <th>Year-Of-Publication</th>\n",
       "    </tr>\n",
       "  </thead>\n",
       "  <tbody>\n",
       "    <tr>\n",
       "      <th>count</th>\n",
       "      <td>1.031136e+06</td>\n",
       "      <td>1.031136e+06</td>\n",
       "      <td>1.031136e+06</td>\n",
       "    </tr>\n",
       "    <tr>\n",
       "      <th>mean</th>\n",
       "      <td>1.405945e+05</td>\n",
       "      <td>2.839051e+00</td>\n",
       "      <td>1.968195e+03</td>\n",
       "    </tr>\n",
       "    <tr>\n",
       "      <th>std</th>\n",
       "      <td>8.052466e+04</td>\n",
       "      <td>3.854157e+00</td>\n",
       "      <td>2.311010e+02</td>\n",
       "    </tr>\n",
       "    <tr>\n",
       "      <th>min</th>\n",
       "      <td>2.000000e+00</td>\n",
       "      <td>0.000000e+00</td>\n",
       "      <td>0.000000e+00</td>\n",
       "    </tr>\n",
       "    <tr>\n",
       "      <th>25%</th>\n",
       "      <td>7.041500e+04</td>\n",
       "      <td>0.000000e+00</td>\n",
       "      <td>1.992000e+03</td>\n",
       "    </tr>\n",
       "    <tr>\n",
       "      <th>50%</th>\n",
       "      <td>1.412100e+05</td>\n",
       "      <td>0.000000e+00</td>\n",
       "      <td>1.997000e+03</td>\n",
       "    </tr>\n",
       "    <tr>\n",
       "      <th>75%</th>\n",
       "      <td>2.114260e+05</td>\n",
       "      <td>7.000000e+00</td>\n",
       "      <td>2.001000e+03</td>\n",
       "    </tr>\n",
       "    <tr>\n",
       "      <th>max</th>\n",
       "      <td>2.788540e+05</td>\n",
       "      <td>1.000000e+01</td>\n",
       "      <td>2.050000e+03</td>\n",
       "    </tr>\n",
       "  </tbody>\n",
       "</table>\n",
       "</div>"
      ],
      "text/plain": [
       "            User-ID   Book-Rating  Year-Of-Publication\n",
       "count  1.031136e+06  1.031136e+06         1.031136e+06\n",
       "mean   1.405945e+05  2.839051e+00         1.968195e+03\n",
       "std    8.052466e+04  3.854157e+00         2.311010e+02\n",
       "min    2.000000e+00  0.000000e+00         0.000000e+00\n",
       "25%    7.041500e+04  0.000000e+00         1.992000e+03\n",
       "50%    1.412100e+05  0.000000e+00         1.997000e+03\n",
       "75%    2.114260e+05  7.000000e+00         2.001000e+03\n",
       "max    2.788540e+05  1.000000e+01         2.050000e+03"
      ]
     },
     "execution_count": 4,
     "metadata": {},
     "output_type": "execute_result"
    }
   ],
   "source": [
    "data.describe()"
   ]
  },
  {
   "cell_type": "markdown",
   "metadata": {},
   "source": [
    "Shape del dataset"
   ]
  },
  {
   "cell_type": "code",
   "execution_count": 5,
   "metadata": {},
   "outputs": [
    {
     "data": {
      "text/plain": [
       "(1031136, 7)"
      ]
     },
     "execution_count": 5,
     "metadata": {},
     "output_type": "execute_result"
    }
   ],
   "source": [
    "data.shape"
   ]
  },
  {
   "cell_type": "markdown",
   "metadata": {},
   "source": [
    "Tipos de datos en el dataset"
   ]
  },
  {
   "cell_type": "code",
   "execution_count": 6,
   "metadata": {},
   "outputs": [
    {
     "data": {
      "text/plain": [
       "User-ID                 int64\n",
       "ISBN                   object\n",
       "Book-Rating             int64\n",
       "Book-Title             object\n",
       "Book-Author            object\n",
       "Year-Of-Publication     int64\n",
       "Publisher              object\n",
       "dtype: object"
      ]
     },
     "execution_count": 6,
     "metadata": {},
     "output_type": "execute_result"
    }
   ],
   "source": [
    "data.dtypes"
   ]
  },
  {
   "cell_type": "markdown",
   "metadata": {},
   "source": [
    "Verificar si hay valores Nulos"
   ]
  },
  {
   "cell_type": "code",
   "execution_count": 7,
   "metadata": {},
   "outputs": [
    {
     "name": "stdout",
     "output_type": "stream",
     "text": [
      "User-ID                0\n",
      "ISBN                   0\n",
      "Book-Rating            0\n",
      "Book-Title             0\n",
      "Book-Author            1\n",
      "Year-Of-Publication    0\n",
      "Publisher              2\n",
      "dtype: int64\n"
     ]
    }
   ],
   "source": [
    "print(data.isnull().sum())"
   ]
  },
  {
   "cell_type": "markdown",
   "metadata": {},
   "source": [
    "Eliminar las filas vacias"
   ]
  },
  {
   "cell_type": "code",
   "execution_count": 8,
   "metadata": {},
   "outputs": [],
   "source": [
    "data = data.dropna()"
   ]
  },
  {
   "cell_type": "markdown",
   "metadata": {},
   "source": [
    "Valores unicos por columna"
   ]
  },
  {
   "cell_type": "code",
   "execution_count": 9,
   "metadata": {},
   "outputs": [
    {
     "name": "stdout",
     "output_type": "stream",
     "text": [
      "User-ID                 92106\n",
      "ISBN                   270148\n",
      "Book-Rating                11\n",
      "Book-Title             241069\n",
      "Book-Author            101587\n",
      "Year-Of-Publication       116\n",
      "Publisher               16728\n",
      "dtype: int64\n"
     ]
    }
   ],
   "source": [
    "print(data.nunique())"
   ]
  },
  {
   "cell_type": "code",
   "execution_count": 10,
   "metadata": {},
   "outputs": [
    {
     "data": {
      "image/png": "[encoded data removed]",
      "text/plain": [
       "<Figure size 640x480 with 1 Axes>"
      ]
     },
     "metadata": {},
     "output_type": "display_data"
    }
   ],
   "source": [
    "data['Book-Rating'].value_counts().sort_index().plot(kind='bar')\n",
    "plt.title('Conteo de Valoraciones')\n",
    "plt.xlabel('Valoración')\n",
    "plt.ylabel('Cantidad')\n",
    "plt.show()\n"
   ]
  },
  {
   "cell_type": "code",
   "execution_count": 28,
   "metadata": {},
   "outputs": [
    {
     "data": {
      "text/plain": [
       "2.8390343437752454"
      ]
     },
     "execution_count": 28,
     "metadata": {},
     "output_type": "execute_result"
    }
   ],
   "source": [
    "media_valoraciones = data['Book-Rating'].mean()\n",
    "media_valoraciones"
   ]
  },
  {
   "cell_type": "markdown",
   "metadata": {},
   "source": [
    "### Label Encoder"
   ]
  },
  {
   "cell_type": "code",
   "execution_count": 11,
   "metadata": {},
   "outputs": [],
   "source": [
    "label_encoder = LabelEncoder()\n",
    "data['Book-Title'] = label_encoder.fit_transform(data['Book-Title'])\n",
    "data['Book-Author'] = label_encoder.fit_transform(data['Book-Author'])\n",
    "data['Publisher'] = label_encoder.fit_transform(data['Publisher'])"
   ]
  },
  {
   "cell_type": "code",
   "execution_count": 12,
   "metadata": {},
   "outputs": [],
   "source": [
    "features = data[['Book-Title', 'Book-Author', 'Year-Of-Publication', 'Publisher']]\n",
    "target = data['Book-Rating']"
   ]
  },
  {
   "cell_type": "code",
   "execution_count": 13,
   "metadata": {},
   "outputs": [],
   "source": [
    "X_train, X_test, y_train, y_test = train_test_split(features, target, test_size=0.2, random_state=42)"
   ]
  },
  {
   "cell_type": "code",
   "execution_count": 15,
   "metadata": {},
   "outputs": [],
   "source": [
    "model = Sequential()\n",
    "model.add(Dense(64, input_dim=features.shape[1], activation='relu'))\n",
    "model.add(Dense(32, activation='relu'))\n",
    "model.add(Dense(1, activation='linear'))"
   ]
  },
  {
   "cell_type": "code",
   "execution_count": 16,
   "metadata": {},
   "outputs": [
    {
     "name": "stdout",
     "output_type": "stream",
     "text": [
      "Model: \"sequential\"\n",
      "_________________________________________________________________\n",
      " Layer (type)                Output Shape              Param #   \n",
      "=================================================================\n",
      " dense (Dense)               (None, 64)                320       \n",
      "                                                                 \n",
      " dense_1 (Dense)             (None, 32)                2080      \n",
      "                                                                 \n",
      " dense_2 (Dense)             (None, 1)                 33        \n",
      "                                                                 \n",
      "=================================================================\n",
      "Total params: 2,433\n",
      "Trainable params: 2,433\n",
      "Non-trainable params: 0\n",
      "_________________________________________________________________\n"
     ]
    }
   ],
   "source": [
    "model.summary()"
   ]
  },
  {
   "cell_type": "code",
   "execution_count": 17,
   "metadata": {},
   "outputs": [],
   "source": [
    "model.compile(loss='mean_squared_error', optimizer='adam', metrics=['mean_squared_error'])"
   ]
  },
  {
   "cell_type": "code",
   "execution_count": 18,
   "metadata": {},
   "outputs": [
    {
     "name": "stdout",
     "output_type": "stream",
     "text": [
      "Epoch 1/10\n",
      "25779/25779 [==============================] - 28s 1ms/step - loss: 38964.7422 - mean_squared_error: 38964.7422 - val_loss: 461.3287 - val_mean_squared_error: 461.3287\n",
      "Epoch 2/10\n",
      "25779/25779 [==============================] - 27s 1ms/step - loss: 655.7675 - mean_squared_error: 655.7675 - val_loss: 29.5970 - val_mean_squared_error: 29.5970\n",
      "Epoch 3/10\n",
      "25779/25779 [==============================] - 27s 1ms/step - loss: 95.2117 - mean_squared_error: 95.2117 - val_loss: 19.9822 - val_mean_squared_error: 19.9822\n",
      "Epoch 4/10\n",
      "25779/25779 [==============================] - 27s 1ms/step - loss: 18.9638 - mean_squared_error: 18.9638 - val_loss: 14.8759 - val_mean_squared_error: 14.8759\n",
      "Epoch 5/10\n",
      "25779/25779 [==============================] - 27s 1ms/step - loss: 14.8524 - mean_squared_error: 14.8524 - val_loss: 14.8726 - val_mean_squared_error: 14.8726\n",
      "Epoch 6/10\n",
      "25779/25779 [==============================] - 31s 1ms/step - loss: 14.8504 - mean_squared_error: 14.8504 - val_loss: 14.8724 - val_mean_squared_error: 14.8724\n",
      "Epoch 7/10\n",
      "25779/25779 [==============================] - 28s 1ms/step - loss: 14.8505 - mean_squared_error: 14.8505 - val_loss: 14.8725 - val_mean_squared_error: 14.8725\n",
      "Epoch 8/10\n",
      "25779/25779 [==============================] - 28s 1ms/step - loss: 14.8504 - mean_squared_error: 14.8504 - val_loss: 14.8732 - val_mean_squared_error: 14.8732\n",
      "Epoch 9/10\n",
      "25779/25779 [==============================] - 27s 1ms/step - loss: 14.8504 - mean_squared_error: 14.8504 - val_loss: 14.8726 - val_mean_squared_error: 14.8726\n",
      "Epoch 10/10\n",
      "25779/25779 [==============================] - 27s 1ms/step - loss: 14.8506 - mean_squared_error: 14.8506 - val_loss: 14.8724 - val_mean_squared_error: 14.8724\n"
     ]
    }
   ],
   "source": [
    "history = model.fit(X_train, y_train, epochs=10, batch_size=32, validation_data=(X_test, y_test))"
   ]
  },
  {
   "cell_type": "code",
   "execution_count": 19,
   "metadata": {},
   "outputs": [
    {
     "data": {
      "text/plain": [
       "Text(0, 0.5, 'Training Error')"
      ]
     },
     "execution_count": 19,
     "metadata": {},
     "output_type": "execute_result"
    },
    {
     "data": {
      "image/png": "[encoded data removed]",
      "text/plain": [
       "<Figure size 640x480 with 1 Axes>"
      ]
     },
     "metadata": {},
     "output_type": "display_data"
    }
   ],
   "source": [
    "plt.plot(history.history['loss'])\n",
    "plt.xlabel(\"Epochs\")\n",
    "plt.ylabel(\"Training Error\")"
   ]
  },
  {
   "cell_type": "markdown",
   "metadata": {},
   "source": [
    "### Prediccion del modelo"
   ]
  },
  {
   "cell_type": "code",
   "execution_count": 53,
   "metadata": {},
   "outputs": [],
   "source": [
    "user_id = 276725\n",
    "\n",
    "# Filtrar los libros que el usuario no ha valorado\n",
    "unrated_books = data[~data['User-ID'].isin([user_id])][['Book-Title', 'Book-Author', 'Publisher', 'Year-Of-Publication']].drop_duplicates()\n"
   ]
  },
  {
   "cell_type": "code",
   "execution_count": 54,
   "metadata": {},
   "outputs": [
    {
     "name": "stdout",
     "output_type": "stream",
     "text": [
      "8401/8401 [==============================] - 5s 589us/step\n",
      "        Book-Title  Book-Author  Publisher  Year-Of-Publication  Predicted-Rating\n",
      "912132         196          691      15860                 2001            16.803\n",
      "343126          72         3849      16497                 2001            15.078\n",
      "786054         290          829      14343                 1999            15.038\n",
      "810814        1819          819      16173                 2000            14.545\n",
      "834722        1654         1267      16173                 1999            14.092\n",
      "888785        1626         1322      16138                 1998            14.009\n",
      "924764         935         2470      16445                 2003            13.809\n",
      "598417          63         4326      15646                 1983            13.771\n",
      "977130         972          740      13593                 1991            13.041\n",
      "786076         302          732      11194                    0            12.928\n"
     ]
    }
   ],
   "source": [
    "# Hacer predicciones para los libros no valorados por el usuario\n",
    "predicciones = model.predict(unrated_books)\n",
    "\n",
    "# Agregar las predicciones al DataFrame de libros no valorados\n",
    "unrated_books['Predicted-Rating'] = predicciones\n",
    "\n",
    "# Ordenar los libros no valorados por las valoraciones predichas de mayor a menor\n",
    "libros_recomendados = unrated_books.sort_values(by='Predicted-Rating', ascending=False)\n",
    "\n",
    "# Mostrar los libros recomendados\n",
    "print(libros_recomendados.head(10)) "
   ]
  },
  {
   "cell_type": "markdown",
   "metadata": {},
   "source": [
    "### Recomendaciones para el usuario 276725"
   ]
  },
  {
   "cell_type": "code",
   "execution_count": 55,
   "metadata": {},
   "outputs": [
    {
     "name": "stdout",
     "output_type": "stream",
     "text": [
      "                                               Book-Title                         Book-Author  \\\n",
      "912132                                  About Comics, LLC       American Technical Publishers   \n",
      "343126                                A. &amp; M. Muchnik                       Dawn Horse Pr   \n",
      "786054  Addison Wesley Higher Education (a Pearson Edu...                           Apostrofe   \n",
      "810814                               Bilingual Books (WA)                          Anvil/PALH   \n",
      "834722                                     Belles lettres                   Ayers &amp; James   \n",
      "888785                          Beech Tree Paperback Book    BVU Buchverlag Union GmbH Berlin   \n",
      "924764                                           Ariel Pr  C. Hurst &amp; Co (Publishers) Ltd   \n",
      "598417                                          A V Pubns                           Drag City   \n",
      "977130                                              Arrow                 Anchor Distributors   \n",
      "786076                         Addison-Wesley Pub Co (Sd)                        Ancestry.com   \n",
      "\n",
      "                           Publisher  \n",
      "912132                  Warner Books  \n",
      "343126           Xlibris Corporation  \n",
      "786054         Sutton Publishing Ltd  \n",
      "810814  William Morrow &amp; Company  \n",
      "834722  William Morrow &amp; Company  \n",
      "888785                         Wiley  \n",
      "924764          Writers Digest Books  \n",
      "598417                 Vintage Books  \n",
      "977130                   Signet Book  \n",
      "786076           Parragon Publishing  \n"
     ]
    }
   ],
   "source": [
    "# Crear un diccionario que mapee los valores transformados a sus valores originales\n",
    "dict_book_title = dict(zip(label_encoder.transform(label_encoder.classes_), label_encoder.classes_))\n",
    "dict_book_author = dict(zip(label_encoder.transform(label_encoder.classes_), label_encoder.classes_))\n",
    "dict_publisher = dict(zip(label_encoder.transform(label_encoder.classes_), label_encoder.classes_))\n",
    "\n",
    "# Revertir la transformación en las predicciones\n",
    "libros_recomendados['Book-Title'] = libros_recomendados['Book-Title'].map(dict_book_title)\n",
    "libros_recomendados['Book-Author'] = libros_recomendados['Book-Author'].map(dict_book_author)\n",
    "libros_recomendados['Publisher'] = libros_recomendados['Publisher'].map(dict_publisher)\n",
    "\n",
    "print(libros_recomendados[['Book-Title', 'Book-Author', 'Publisher']].head(10))\n"
   ]
  },
  {
   "cell_type": "code",
   "execution_count": 56,
   "metadata": {},
   "outputs": [],
   "source": [
    "model.save('./Modelos/modellimpio.h5')"
   ]
  }
 ],
 "metadata": {
  "kernelspec": {
   "display_name": "Python 3",
   "language": "python",
   "name": "python3"
  },
  "language_info": {
   "codemirror_mode": {
    "name": "ipython",
    "version": 3
   },
   "file_extension": ".py",
   "mimetype": "text/x-python",
   "name": "python",
   "nbconvert_exporter": "python",
   "pygments_lexer": "ipython3",
   "version": "3.11.1"
  }
 },
 "nbformat": 4,
 "nbformat_minor": 2
}
