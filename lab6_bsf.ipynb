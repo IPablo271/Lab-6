{
 "cells": [
  {
   "cell_type": "markdown",
   "metadata": {},
   "source": [
    "### Universidad del Valle de Guatemala\n",
    "#### Deep Learning\n",
    "##### Recomenadaciones basadas en filtros\n",
    "##### Integrantes:\n",
    "1. Jose Hernandez 20053\n",
    "2. Pablo Gonzalez 20362\n"
   ]
  },
  {
   "cell_type": "markdown",
   "metadata": {},
   "source": [
    "##### Impotar librerias"
   ]
  },
  {
   "cell_type": "code",
   "execution_count": 1,
   "metadata": {},
   "outputs": [],
   "source": [
    "import pandas as pd\n",
    "import numpy as np\n",
    "import matplotlib.pyplot as plt\n",
    "import seaborn as sns\n",
    "from sklearn.model_selection import train_test_split\n",
    "from sklearn.feature_extraction.text import TfidfVectorizer\n",
    "from sklearn.preprocessing import LabelEncoder\n",
    "from keras.models import Sequential\n",
    "from keras.layers import Input, Embedding, Flatten, Dot, Dense, Concatenate\n",
    "from keras.models import Model\n",
    "from tensorflow.keras.models import load_model"
   ]
  },
  {
   "cell_type": "markdown",
   "metadata": {},
   "source": [
    "#### Leer data"
   ]
  },
  {
   "cell_type": "code",
   "execution_count": 4,
   "metadata": {},
   "outputs": [],
   "source": [
    "data = pd.read_csv('./data/merged_data.csv')"
   ]
  },
  {
   "cell_type": "markdown",
   "metadata": {},
   "source": [
    "Mostrar las primeras 5 filas de la data"
   ]
  },
  {
   "cell_type": "code",
   "execution_count": 5,
   "metadata": {},
   "outputs": [
    {
     "data": {
      "text/html": [
       "<div>\n",
       "<style scoped>\n",
       "    .dataframe tbody tr th:only-of-type {\n",
       "        vertical-align: middle;\n",
       "    }\n",
       "\n",
       "    .dataframe tbody tr th {\n",
       "        vertical-align: top;\n",
       "    }\n",
       "\n",
       "    .dataframe thead th {\n",
       "        text-align: right;\n",
       "    }\n",
       "</style>\n",
       "<table border=\"1\" class=\"dataframe\">\n",
       "  <thead>\n",
       "    <tr style=\"text-align: right;\">\n",
       "      <th></th>\n",
       "      <th>User-ID</th>\n",
       "      <th>ISBN</th>\n",
       "      <th>Book-Rating</th>\n",
       "      <th>Book-Title</th>\n",
       "      <th>Book-Author</th>\n",
       "      <th>Year-Of-Publication</th>\n",
       "      <th>Publisher</th>\n",
       "    </tr>\n",
       "  </thead>\n",
       "  <tbody>\n",
       "    <tr>\n",
       "      <th>0</th>\n",
       "      <td>276725</td>\n",
       "      <td>034545104X</td>\n",
       "      <td>0</td>\n",
       "      <td>Flesh Tones: A Novel</td>\n",
       "      <td>M. J. Rose</td>\n",
       "      <td>2002</td>\n",
       "      <td>Ballantine Books</td>\n",
       "    </tr>\n",
       "    <tr>\n",
       "      <th>1</th>\n",
       "      <td>2313</td>\n",
       "      <td>034545104X</td>\n",
       "      <td>5</td>\n",
       "      <td>Flesh Tones: A Novel</td>\n",
       "      <td>M. J. Rose</td>\n",
       "      <td>2002</td>\n",
       "      <td>Ballantine Books</td>\n",
       "    </tr>\n",
       "    <tr>\n",
       "      <th>2</th>\n",
       "      <td>6543</td>\n",
       "      <td>034545104X</td>\n",
       "      <td>0</td>\n",
       "      <td>Flesh Tones: A Novel</td>\n",
       "      <td>M. J. Rose</td>\n",
       "      <td>2002</td>\n",
       "      <td>Ballantine Books</td>\n",
       "    </tr>\n",
       "    <tr>\n",
       "      <th>3</th>\n",
       "      <td>8680</td>\n",
       "      <td>034545104X</td>\n",
       "      <td>5</td>\n",
       "      <td>Flesh Tones: A Novel</td>\n",
       "      <td>M. J. Rose</td>\n",
       "      <td>2002</td>\n",
       "      <td>Ballantine Books</td>\n",
       "    </tr>\n",
       "    <tr>\n",
       "      <th>4</th>\n",
       "      <td>10314</td>\n",
       "      <td>034545104X</td>\n",
       "      <td>9</td>\n",
       "      <td>Flesh Tones: A Novel</td>\n",
       "      <td>M. J. Rose</td>\n",
       "      <td>2002</td>\n",
       "      <td>Ballantine Books</td>\n",
       "    </tr>\n",
       "  </tbody>\n",
       "</table>\n",
       "</div>"
      ],
      "text/plain": [
       "   User-ID        ISBN  Book-Rating            Book-Title Book-Author  \\\n",
       "0   276725  034545104X            0  Flesh Tones: A Novel  M. J. Rose   \n",
       "1     2313  034545104X            5  Flesh Tones: A Novel  M. J. Rose   \n",
       "2     6543  034545104X            0  Flesh Tones: A Novel  M. J. Rose   \n",
       "3     8680  034545104X            5  Flesh Tones: A Novel  M. J. Rose   \n",
       "4    10314  034545104X            9  Flesh Tones: A Novel  M. J. Rose   \n",
       "\n",
       "   Year-Of-Publication         Publisher  \n",
       "0                 2002  Ballantine Books  \n",
       "1                 2002  Ballantine Books  \n",
       "2                 2002  Ballantine Books  \n",
       "3                 2002  Ballantine Books  \n",
       "4                 2002  Ballantine Books  "
      ]
     },
     "execution_count": 5,
     "metadata": {},
     "output_type": "execute_result"
    }
   ],
   "source": [
    "data.head(5)"
   ]
  },
  {
   "cell_type": "markdown",
   "metadata": {},
   "source": [
    "Describe de las variables numericas en el dataset"
   ]
  },
  {
   "cell_type": "code",
   "execution_count": 6,
   "metadata": {},
   "outputs": [
    {
     "data": {
      "text/html": [
       "<div>\n",
       "<style scoped>\n",
       "    .dataframe tbody tr th:only-of-type {\n",
       "        vertical-align: middle;\n",
       "    }\n",
       "\n",
       "    .dataframe tbody tr th {\n",
       "        vertical-align: top;\n",
       "    }\n",
       "\n",
       "    .dataframe thead th {\n",
       "        text-align: right;\n",
       "    }\n",
       "</style>\n",
       "<table border=\"1\" class=\"dataframe\">\n",
       "  <thead>\n",
       "    <tr style=\"text-align: right;\">\n",
       "      <th></th>\n",
       "      <th>User-ID</th>\n",
       "      <th>Book-Rating</th>\n",
       "      <th>Year-Of-Publication</th>\n",
       "    </tr>\n",
       "  </thead>\n",
       "  <tbody>\n",
       "    <tr>\n",
       "      <th>count</th>\n",
       "      <td>1.031136e+06</td>\n",
       "      <td>1.031136e+06</td>\n",
       "      <td>1.031136e+06</td>\n",
       "    </tr>\n",
       "    <tr>\n",
       "      <th>mean</th>\n",
       "      <td>1.405945e+05</td>\n",
       "      <td>2.839051e+00</td>\n",
       "      <td>1.968195e+03</td>\n",
       "    </tr>\n",
       "    <tr>\n",
       "      <th>std</th>\n",
       "      <td>8.052466e+04</td>\n",
       "      <td>3.854157e+00</td>\n",
       "      <td>2.311010e+02</td>\n",
       "    </tr>\n",
       "    <tr>\n",
       "      <th>min</th>\n",
       "      <td>2.000000e+00</td>\n",
       "      <td>0.000000e+00</td>\n",
       "      <td>0.000000e+00</td>\n",
       "    </tr>\n",
       "    <tr>\n",
       "      <th>25%</th>\n",
       "      <td>7.041500e+04</td>\n",
       "      <td>0.000000e+00</td>\n",
       "      <td>1.992000e+03</td>\n",
       "    </tr>\n",
       "    <tr>\n",
       "      <th>50%</th>\n",
       "      <td>1.412100e+05</td>\n",
       "      <td>0.000000e+00</td>\n",
       "      <td>1.997000e+03</td>\n",
       "    </tr>\n",
       "    <tr>\n",
       "      <th>75%</th>\n",
       "      <td>2.114260e+05</td>\n",
       "      <td>7.000000e+00</td>\n",
       "      <td>2.001000e+03</td>\n",
       "    </tr>\n",
       "    <tr>\n",
       "      <th>max</th>\n",
       "      <td>2.788540e+05</td>\n",
       "      <td>1.000000e+01</td>\n",
       "      <td>2.050000e+03</td>\n",
       "    </tr>\n",
       "  </tbody>\n",
       "</table>\n",
       "</div>"
      ],
      "text/plain": [
       "            User-ID   Book-Rating  Year-Of-Publication\n",
       "count  1.031136e+06  1.031136e+06         1.031136e+06\n",
       "mean   1.405945e+05  2.839051e+00         1.968195e+03\n",
       "std    8.052466e+04  3.854157e+00         2.311010e+02\n",
       "min    2.000000e+00  0.000000e+00         0.000000e+00\n",
       "25%    7.041500e+04  0.000000e+00         1.992000e+03\n",
       "50%    1.412100e+05  0.000000e+00         1.997000e+03\n",
       "75%    2.114260e+05  7.000000e+00         2.001000e+03\n",
       "max    2.788540e+05  1.000000e+01         2.050000e+03"
      ]
     },
     "execution_count": 6,
     "metadata": {},
     "output_type": "execute_result"
    }
   ],
   "source": [
    "data.describe()"
   ]
  },
  {
   "cell_type": "markdown",
   "metadata": {},
   "source": [
    "Shape del dataset"
   ]
  },
  {
   "cell_type": "code",
   "execution_count": 7,
   "metadata": {},
   "outputs": [
    {
     "data": {
      "text/plain": [
       "(1031136, 7)"
      ]
     },
     "execution_count": 7,
     "metadata": {},
     "output_type": "execute_result"
    }
   ],
   "source": [
    "data.shape"
   ]
  },
  {
   "cell_type": "markdown",
   "metadata": {},
   "source": [
    "Tipos de datos en el dataset"
   ]
  },
  {
   "cell_type": "code",
   "execution_count": 8,
   "metadata": {},
   "outputs": [
    {
     "data": {
      "text/plain": [
       "User-ID                 int64\n",
       "ISBN                   object\n",
       "Book-Rating             int64\n",
       "Book-Title             object\n",
       "Book-Author            object\n",
       "Year-Of-Publication     int64\n",
       "Publisher              object\n",
       "dtype: object"
      ]
     },
     "execution_count": 8,
     "metadata": {},
     "output_type": "execute_result"
    }
   ],
   "source": [
    "data.dtypes"
   ]
  },
  {
   "cell_type": "markdown",
   "metadata": {},
   "source": [
    "Verificar si hay valores Nulos"
   ]
  },
  {
   "cell_type": "code",
   "execution_count": 9,
   "metadata": {},
   "outputs": [
    {
     "name": "stdout",
     "output_type": "stream",
     "text": [
      "User-ID                0\n",
      "ISBN                   0\n",
      "Book-Rating            0\n",
      "Book-Title             0\n",
      "Book-Author            1\n",
      "Year-Of-Publication    0\n",
      "Publisher              2\n",
      "dtype: int64\n"
     ]
    }
   ],
   "source": [
    "print(data.isnull().sum())"
   ]
  },
  {
   "cell_type": "markdown",
   "metadata": {},
   "source": [
    "Eliminar las filas vacias"
   ]
  },
  {
   "cell_type": "code",
   "execution_count": 10,
   "metadata": {},
   "outputs": [],
   "source": [
    "data = data.dropna()"
   ]
  },
  {
   "cell_type": "markdown",
   "metadata": {},
   "source": [
    "Valores unicos por columna"
   ]
  },
  {
   "cell_type": "code",
   "execution_count": 11,
   "metadata": {},
   "outputs": [
    {
     "name": "stdout",
     "output_type": "stream",
     "text": [
      "User-ID                 92106\n",
      "ISBN                   270148\n",
      "Book-Rating                11\n",
      "Book-Title             241069\n",
      "Book-Author            101587\n",
      "Year-Of-Publication       116\n",
      "Publisher               16728\n",
      "dtype: int64\n"
     ]
    }
   ],
   "source": [
    "print(data.nunique())"
   ]
  },
  {
   "cell_type": "code",
   "execution_count": 12,
   "metadata": {},
   "outputs": [
    {
     "data": {
      "image/png": "[encoded data removed]",
      "text/plain": [
       "<Figure size 640x480 with 1 Axes>"
      ]
     },
     "metadata": {},
     "output_type": "display_data"
    }
   ],
   "source": [
    "data['Book-Rating'].value_counts().sort_index().plot(kind='bar')\n",
    "plt.title('Conteo de Valoraciones')\n",
    "plt.xlabel('Valoración')\n",
    "plt.ylabel('Cantidad')\n",
    "plt.show()\n"
   ]
  },
  {
   "cell_type": "code",
   "execution_count": 13,
   "metadata": {},
   "outputs": [
    {
     "data": {
      "text/plain": [
       "2.8390343437752454"
      ]
     },
     "execution_count": 13,
     "metadata": {},
     "output_type": "execute_result"
    }
   ],
   "source": [
    "media_valoraciones = data['Book-Rating'].mean()\n",
    "media_valoraciones"
   ]
  },
  {
   "cell_type": "markdown",
   "metadata": {},
   "source": [
    "### Label Encoder"
   ]
  },
  {
   "cell_type": "code",
   "execution_count": 14,
   "metadata": {},
   "outputs": [],
   "source": [
    "# Codificar User-IDs y ISBNs\n",
    "user_encoder = LabelEncoder()\n",
    "book_encoder = LabelEncoder()\n",
    "book_title_encoder = LabelEncoder()\n",
    "book_author_encoder = LabelEncoder()\n",
    "publisher_encoder = LabelEncoder()\n",
    "\n",
    "data['ISBN'] = book_encoder.fit_transform(data['ISBN'])\n",
    "data['User-ID'] = user_encoder.fit_transform(data['User-ID'])\n",
    "data['Book-Title'] = book_title_encoder.fit_transform(data['Book-Title'])\n",
    "data['Book-Author'] = book_author_encoder.fit_transform(data['Book-Author'])\n",
    "data['Publisher'] = publisher_encoder.fit_transform(data['Publisher'])\n"
   ]
  },
  {
   "cell_type": "code",
   "execution_count": 15,
   "metadata": {},
   "outputs": [
    {
     "data": {
      "text/html": [
       "<div>\n",
       "<style scoped>\n",
       "    .dataframe tbody tr th:only-of-type {\n",
       "        vertical-align: middle;\n",
       "    }\n",
       "\n",
       "    .dataframe tbody tr th {\n",
       "        vertical-align: top;\n",
       "    }\n",
       "\n",
       "    .dataframe thead th {\n",
       "        text-align: right;\n",
       "    }\n",
       "</style>\n",
       "<table border=\"1\" class=\"dataframe\">\n",
       "  <thead>\n",
       "    <tr style=\"text-align: right;\">\n",
       "      <th></th>\n",
       "      <th>User-ID</th>\n",
       "      <th>ISBN</th>\n",
       "      <th>Book-Rating</th>\n",
       "      <th>Book-Title</th>\n",
       "      <th>Book-Author</th>\n",
       "      <th>Year-Of-Publication</th>\n",
       "      <th>Publisher</th>\n",
       "    </tr>\n",
       "  </thead>\n",
       "  <tbody>\n",
       "    <tr>\n",
       "      <th>0</th>\n",
       "      <td>91362</td>\n",
       "      <td>45921</td>\n",
       "      <td>0</td>\n",
       "      <td>67829</td>\n",
       "      <td>61681</td>\n",
       "      <td>2002</td>\n",
       "      <td>1388</td>\n",
       "    </tr>\n",
       "    <tr>\n",
       "      <th>1</th>\n",
       "      <td>711</td>\n",
       "      <td>45921</td>\n",
       "      <td>5</td>\n",
       "      <td>67829</td>\n",
       "      <td>61681</td>\n",
       "      <td>2002</td>\n",
       "      <td>1388</td>\n",
       "    </tr>\n",
       "    <tr>\n",
       "      <th>2</th>\n",
       "      <td>2040</td>\n",
       "      <td>45921</td>\n",
       "      <td>0</td>\n",
       "      <td>67829</td>\n",
       "      <td>61681</td>\n",
       "      <td>2002</td>\n",
       "      <td>1388</td>\n",
       "    </tr>\n",
       "    <tr>\n",
       "      <th>3</th>\n",
       "      <td>2721</td>\n",
       "      <td>45921</td>\n",
       "      <td>5</td>\n",
       "      <td>67829</td>\n",
       "      <td>61681</td>\n",
       "      <td>2002</td>\n",
       "      <td>1388</td>\n",
       "    </tr>\n",
       "    <tr>\n",
       "      <th>4</th>\n",
       "      <td>3202</td>\n",
       "      <td>45921</td>\n",
       "      <td>9</td>\n",
       "      <td>67829</td>\n",
       "      <td>61681</td>\n",
       "      <td>2002</td>\n",
       "      <td>1388</td>\n",
       "    </tr>\n",
       "    <tr>\n",
       "      <th>...</th>\n",
       "      <td>...</td>\n",
       "      <td>...</td>\n",
       "      <td>...</td>\n",
       "      <td>...</td>\n",
       "      <td>...</td>\n",
       "      <td>...</td>\n",
       "      <td>...</td>\n",
       "    </tr>\n",
       "    <tr>\n",
       "      <th>1031131</th>\n",
       "      <td>91356</td>\n",
       "      <td>109402</td>\n",
       "      <td>0</td>\n",
       "      <td>123563</td>\n",
       "      <td>24408</td>\n",
       "      <td>1995</td>\n",
       "      <td>12403</td>\n",
       "    </tr>\n",
       "    <tr>\n",
       "      <th>1031132</th>\n",
       "      <td>91356</td>\n",
       "      <td>230728</td>\n",
       "      <td>7</td>\n",
       "      <td>77086</td>\n",
       "      <td>89213</td>\n",
       "      <td>1996</td>\n",
       "      <td>8090</td>\n",
       "    </tr>\n",
       "    <tr>\n",
       "      <th>1031133</th>\n",
       "      <td>91357</td>\n",
       "      <td>128230</td>\n",
       "      <td>0</td>\n",
       "      <td>222387</td>\n",
       "      <td>21498</td>\n",
       "      <td>1997</td>\n",
       "      <td>838</td>\n",
       "    </tr>\n",
       "    <tr>\n",
       "      <th>1031134</th>\n",
       "      <td>91358</td>\n",
       "      <td>144855</td>\n",
       "      <td>0</td>\n",
       "      <td>2960</td>\n",
       "      <td>51694</td>\n",
       "      <td>1997</td>\n",
       "      <td>15649</td>\n",
       "    </tr>\n",
       "    <tr>\n",
       "      <th>1031135</th>\n",
       "      <td>91358</td>\n",
       "      <td>176857</td>\n",
       "      <td>5</td>\n",
       "      <td>139425</td>\n",
       "      <td>76092</td>\n",
       "      <td>1997</td>\n",
       "      <td>14142</td>\n",
       "    </tr>\n",
       "  </tbody>\n",
       "</table>\n",
       "<p>1031133 rows × 7 columns</p>\n",
       "</div>"
      ],
      "text/plain": [
       "         User-ID    ISBN  Book-Rating  Book-Title  Book-Author  \\\n",
       "0          91362   45921            0       67829        61681   \n",
       "1            711   45921            5       67829        61681   \n",
       "2           2040   45921            0       67829        61681   \n",
       "3           2721   45921            5       67829        61681   \n",
       "4           3202   45921            9       67829        61681   \n",
       "...          ...     ...          ...         ...          ...   \n",
       "1031131    91356  109402            0      123563        24408   \n",
       "1031132    91356  230728            7       77086        89213   \n",
       "1031133    91357  128230            0      222387        21498   \n",
       "1031134    91358  144855            0        2960        51694   \n",
       "1031135    91358  176857            5      139425        76092   \n",
       "\n",
       "         Year-Of-Publication  Publisher  \n",
       "0                       2002       1388  \n",
       "1                       2002       1388  \n",
       "2                       2002       1388  \n",
       "3                       2002       1388  \n",
       "4                       2002       1388  \n",
       "...                      ...        ...  \n",
       "1031131                 1995      12403  \n",
       "1031132                 1996       8090  \n",
       "1031133                 1997        838  \n",
       "1031134                 1997      15649  \n",
       "1031135                 1997      14142  \n",
       "\n",
       "[1031133 rows x 7 columns]"
      ]
     },
     "execution_count": 15,
     "metadata": {},
     "output_type": "execute_result"
    }
   ],
   "source": [
    "data"
   ]
  },
  {
   "cell_type": "code",
   "execution_count": 16,
   "metadata": {},
   "outputs": [
    {
     "data": {
      "text/plain": [
       "User-ID                int64\n",
       "ISBN                   int32\n",
       "Book-Rating            int64\n",
       "Book-Title             int32\n",
       "Book-Author            int32\n",
       "Year-Of-Publication    int64\n",
       "Publisher              int32\n",
       "dtype: object"
      ]
     },
     "execution_count": 16,
     "metadata": {},
     "output_type": "execute_result"
    }
   ],
   "source": [
    "data.dtypes"
   ]
  },
  {
   "cell_type": "markdown",
   "metadata": {},
   "source": [
    "### Cojuntos de entrenamiento y prueba\n"
   ]
  },
  {
   "cell_type": "code",
   "execution_count": 17,
   "metadata": {},
   "outputs": [],
   "source": [
    "data = data.rename(columns={'User-ID': 'user_id', 'ISBN': 'book_id', 'Book-Rating': 'rating','Book-Title': 'book_title', 'Book-Author': 'book_author', 'Year-Of-Publication': 'year_of_publication', 'Publisher': 'publisher'})"
   ]
  },
  {
   "cell_type": "code",
   "execution_count": 18,
   "metadata": {},
   "outputs": [
    {
     "data": {
      "text/html": [
       "<div>\n",
       "<style scoped>\n",
       "    .dataframe tbody tr th:only-of-type {\n",
       "        vertical-align: middle;\n",
       "    }\n",
       "\n",
       "    .dataframe tbody tr th {\n",
       "        vertical-align: top;\n",
       "    }\n",
       "\n",
       "    .dataframe thead th {\n",
       "        text-align: right;\n",
       "    }\n",
       "</style>\n",
       "<table border=\"1\" class=\"dataframe\">\n",
       "  <thead>\n",
       "    <tr style=\"text-align: right;\">\n",
       "      <th></th>\n",
       "      <th>user_id</th>\n",
       "      <th>book_id</th>\n",
       "      <th>rating</th>\n",
       "      <th>book_title</th>\n",
       "      <th>book_author</th>\n",
       "      <th>year_of_publication</th>\n",
       "      <th>publisher</th>\n",
       "    </tr>\n",
       "  </thead>\n",
       "  <tbody>\n",
       "    <tr>\n",
       "      <th>0</th>\n",
       "      <td>91362</td>\n",
       "      <td>45921</td>\n",
       "      <td>0</td>\n",
       "      <td>67829</td>\n",
       "      <td>61681</td>\n",
       "      <td>2002</td>\n",
       "      <td>1388</td>\n",
       "    </tr>\n",
       "    <tr>\n",
       "      <th>1</th>\n",
       "      <td>711</td>\n",
       "      <td>45921</td>\n",
       "      <td>5</td>\n",
       "      <td>67829</td>\n",
       "      <td>61681</td>\n",
       "      <td>2002</td>\n",
       "      <td>1388</td>\n",
       "    </tr>\n",
       "    <tr>\n",
       "      <th>2</th>\n",
       "      <td>2040</td>\n",
       "      <td>45921</td>\n",
       "      <td>0</td>\n",
       "      <td>67829</td>\n",
       "      <td>61681</td>\n",
       "      <td>2002</td>\n",
       "      <td>1388</td>\n",
       "    </tr>\n",
       "    <tr>\n",
       "      <th>3</th>\n",
       "      <td>2721</td>\n",
       "      <td>45921</td>\n",
       "      <td>5</td>\n",
       "      <td>67829</td>\n",
       "      <td>61681</td>\n",
       "      <td>2002</td>\n",
       "      <td>1388</td>\n",
       "    </tr>\n",
       "    <tr>\n",
       "      <th>4</th>\n",
       "      <td>3202</td>\n",
       "      <td>45921</td>\n",
       "      <td>9</td>\n",
       "      <td>67829</td>\n",
       "      <td>61681</td>\n",
       "      <td>2002</td>\n",
       "      <td>1388</td>\n",
       "    </tr>\n",
       "    <tr>\n",
       "      <th>...</th>\n",
       "      <td>...</td>\n",
       "      <td>...</td>\n",
       "      <td>...</td>\n",
       "      <td>...</td>\n",
       "      <td>...</td>\n",
       "      <td>...</td>\n",
       "      <td>...</td>\n",
       "    </tr>\n",
       "    <tr>\n",
       "      <th>1031131</th>\n",
       "      <td>91356</td>\n",
       "      <td>109402</td>\n",
       "      <td>0</td>\n",
       "      <td>123563</td>\n",
       "      <td>24408</td>\n",
       "      <td>1995</td>\n",
       "      <td>12403</td>\n",
       "    </tr>\n",
       "    <tr>\n",
       "      <th>1031132</th>\n",
       "      <td>91356</td>\n",
       "      <td>230728</td>\n",
       "      <td>7</td>\n",
       "      <td>77086</td>\n",
       "      <td>89213</td>\n",
       "      <td>1996</td>\n",
       "      <td>8090</td>\n",
       "    </tr>\n",
       "    <tr>\n",
       "      <th>1031133</th>\n",
       "      <td>91357</td>\n",
       "      <td>128230</td>\n",
       "      <td>0</td>\n",
       "      <td>222387</td>\n",
       "      <td>21498</td>\n",
       "      <td>1997</td>\n",
       "      <td>838</td>\n",
       "    </tr>\n",
       "    <tr>\n",
       "      <th>1031134</th>\n",
       "      <td>91358</td>\n",
       "      <td>144855</td>\n",
       "      <td>0</td>\n",
       "      <td>2960</td>\n",
       "      <td>51694</td>\n",
       "      <td>1997</td>\n",
       "      <td>15649</td>\n",
       "    </tr>\n",
       "    <tr>\n",
       "      <th>1031135</th>\n",
       "      <td>91358</td>\n",
       "      <td>176857</td>\n",
       "      <td>5</td>\n",
       "      <td>139425</td>\n",
       "      <td>76092</td>\n",
       "      <td>1997</td>\n",
       "      <td>14142</td>\n",
       "    </tr>\n",
       "  </tbody>\n",
       "</table>\n",
       "<p>1031133 rows × 7 columns</p>\n",
       "</div>"
      ],
      "text/plain": [
       "         user_id  book_id  rating  book_title  book_author  \\\n",
       "0          91362    45921       0       67829        61681   \n",
       "1            711    45921       5       67829        61681   \n",
       "2           2040    45921       0       67829        61681   \n",
       "3           2721    45921       5       67829        61681   \n",
       "4           3202    45921       9       67829        61681   \n",
       "...          ...      ...     ...         ...          ...   \n",
       "1031131    91356   109402       0      123563        24408   \n",
       "1031132    91356   230728       7       77086        89213   \n",
       "1031133    91357   128230       0      222387        21498   \n",
       "1031134    91358   144855       0        2960        51694   \n",
       "1031135    91358   176857       5      139425        76092   \n",
       "\n",
       "         year_of_publication  publisher  \n",
       "0                       2002       1388  \n",
       "1                       2002       1388  \n",
       "2                       2002       1388  \n",
       "3                       2002       1388  \n",
       "4                       2002       1388  \n",
       "...                      ...        ...  \n",
       "1031131                 1995      12403  \n",
       "1031132                 1996       8090  \n",
       "1031133                 1997        838  \n",
       "1031134                 1997      15649  \n",
       "1031135                 1997      14142  \n",
       "\n",
       "[1031133 rows x 7 columns]"
      ]
     },
     "execution_count": 18,
     "metadata": {},
     "output_type": "execute_result"
    }
   ],
   "source": [
    "data"
   ]
  },
  {
   "cell_type": "code",
   "execution_count": 19,
   "metadata": {},
   "outputs": [],
   "source": [
    "train, test = train_test_split(data, test_size=0.2, random_state=42)"
   ]
  },
  {
   "cell_type": "markdown",
   "metadata": {},
   "source": [
    "### Modelo"
   ]
  },
  {
   "cell_type": "code",
   "execution_count": 20,
   "metadata": {},
   "outputs": [],
   "source": [
    "\n",
    "n_users = data['user_id'].nunique()\n",
    "n_books = data['book_title'].nunique()\n",
    "\n",
    "# Crear el modelo de filtrado colaborativo\n",
    "user_input = Input(shape=[1,], name='user_input')\n",
    "user_embedding = Embedding(n_users+1, 5, name='user_embedding')(user_input)\n",
    "user_vec = Flatten(name='user_vec')(user_embedding)\n",
    "\n",
    "book_input = Input(shape=[1], name='book_input')\n",
    "book_embedding = Embedding(n_books+1, 5, name='book_embedding')(book_input)\n",
    "book_vec = Flatten(name='book_vec')(book_embedding)\n",
    "\n",
    "\n",
    "conc = Concatenate()([user_vec,book_vec])\n",
    "\n",
    "fc1 = Dense(256, activation='relu')(conc)\n",
    "fc2 = Dense(128, activation='relu')(fc1)\n",
    "fc3 = Dense(128, activation='relu')(fc2)\n",
    "out = Dense(1)(fc3)\n",
    "\n",
    "model = Model([user_input, book_input],out)\n",
    "model.compile(loss='mean_squared_error', optimizer='adam')\n",
    "\n"
   ]
  },
  {
   "cell_type": "code",
   "execution_count": 21,
   "metadata": {},
   "outputs": [
    {
     "name": "stdout",
     "output_type": "stream",
     "text": [
      "Model: \"model\"\n",
      "__________________________________________________________________________________________________\n",
      " Layer (type)                   Output Shape         Param #     Connected to                     \n",
      "==================================================================================================\n",
      " user_input (InputLayer)        [(None, 1)]          0           []                               \n",
      "                                                                                                  \n",
      " book_input (InputLayer)        [(None, 1)]          0           []                               \n",
      "                                                                                                  \n",
      " user_embedding (Embedding)     (None, 1, 5)         460535      ['user_input[0][0]']             \n",
      "                                                                                                  \n",
      " book_embedding (Embedding)     (None, 1, 5)         1205350     ['book_input[0][0]']             \n",
      "                                                                                                  \n",
      " user_vec (Flatten)             (None, 5)            0           ['user_embedding[0][0]']         \n",
      "                                                                                                  \n",
      " book_vec (Flatten)             (None, 5)            0           ['book_embedding[0][0]']         \n",
      "                                                                                                  \n",
      " concatenate (Concatenate)      (None, 10)           0           ['user_vec[0][0]',               \n",
      "                                                                  'book_vec[0][0]']               \n",
      "                                                                                                  \n",
      " dense (Dense)                  (None, 256)          2816        ['concatenate[0][0]']            \n",
      "                                                                                                  \n",
      " dense_1 (Dense)                (None, 128)          32896       ['dense[0][0]']                  \n",
      "                                                                                                  \n",
      " dense_2 (Dense)                (None, 128)          16512       ['dense_1[0][0]']                \n",
      "                                                                                                  \n",
      " dense_3 (Dense)                (None, 1)            129         ['dense_2[0][0]']                \n",
      "                                                                                                  \n",
      "==================================================================================================\n",
      "Total params: 1,718,238\n",
      "Trainable params: 1,718,238\n",
      "Non-trainable params: 0\n",
      "__________________________________________________________________________________________________\n"
     ]
    }
   ],
   "source": [
    "model.summary()"
   ]
  },
  {
   "cell_type": "code",
   "execution_count": 84,
   "metadata": {},
   "outputs": [
    {
     "name": "stdout",
     "output_type": "stream",
     "text": [
      "Epoch 1/5\n",
      "25779/25779 [==============================] - 371s 14ms/step - loss: 11.4183\n",
      "Epoch 2/5\n",
      "25779/25779 [==============================] - 345s 13ms/step - loss: 9.4561\n",
      "Epoch 3/5\n",
      "25779/25779 [==============================] - 353s 14ms/step - loss: 8.3575\n",
      "Epoch 4/5\n",
      "25779/25779 [==============================] - 352s 14ms/step - loss: 7.7535\n",
      "Epoch 5/5\n",
      "25779/25779 [==============================] - 343s 13ms/step - loss: 7.3373\n"
     ]
    }
   ],
   "source": [
    "history = model.fit([train.user_id, train.book_title], train.rating, epochs=5, verbose=1)\n"
   ]
  },
  {
   "cell_type": "code",
   "execution_count": 85,
   "metadata": {},
   "outputs": [
    {
     "data": {
      "text/plain": [
       "Text(0, 0.5, 'Training Error')"
      ]
     },
     "execution_count": 85,
     "metadata": {},
     "output_type": "execute_result"
    },
    {
     "data": {
      "image/png": "[encoded data removed]",
      "text/plain": [
       "<Figure size 640x480 with 1 Axes>"
      ]
     },
     "metadata": {},
     "output_type": "display_data"
    }
   ],
   "source": [
    "plt.plot(history.history['loss'])\n",
    "plt.xlabel(\"Epochs\")\n",
    "plt.ylabel(\"Training Error\")"
   ]
  },
  {
   "cell_type": "code",
   "execution_count": 2,
   "metadata": {},
   "outputs": [],
   "source": [
    "modelo = load_model('./Modelos/model_emmbeding.h5')"
   ]
  },
  {
   "cell_type": "code",
   "execution_count": 25,
   "metadata": {},
   "outputs": [
    {
     "name": "stdout",
     "output_type": "stream",
     "text": [
      "7534/7534 [==============================] - 5s 662us/step\n",
      "        user_id  book_title  predicted_rating\n",
      "44629       123      240445          9.710107\n",
      "149097      123       95491          9.702327\n",
      "36243       123      153683          9.699008\n",
      "21236       123      192719          9.698925\n",
      "163068      123       88650          9.697206\n",
      "71597       123       16307          9.696734\n",
      "30738       123       97326          9.696652\n",
      "155227      123      113837          9.695389\n",
      "93400       123      116137          9.695090\n",
      "96210       123       95595          9.693981\n"
     ]
    }
   ],
   "source": [
    "# ID del usuario para el que queremos realizar las recomendaciones\n",
    "user_id = 123  # Cambia esto al ID del usuario para el que deseas recomendaciones\n",
    "\n",
    "# Crear un array con todos los IDs de libros únicos\n",
    "all_books = data['book_title'].unique()\n",
    "\n",
    "# Crear un DataFrame con todos los libros y el ID del usuario para realizar predicciones\n",
    "user_books = pd.DataFrame({'user_id': [user_id] * len(all_books), 'book_title': all_books})\n",
    "\n",
    "# Obtener las predicciones del modelo para todos los libros y el usuario en cuestión\n",
    "predictions = modelo.predict([user_books['user_id'], user_books['book_title']])\n",
    "\n",
    "# Agregar las predicciones al DataFrame de libros del usuario\n",
    "user_books['predicted_rating'] = predictions\n",
    "\n",
    "# Ordenar los libros por las predicciones de mayor a menor y seleccionar los 10 mejores\n",
    "top_10_recommendations = user_books.sort_values(by='predicted_rating', ascending=False).head(10)\n",
    "\n",
    "# Mostrar las recomendaciones\n",
    "print(top_10_recommendations)\n"
   ]
  },
  {
   "cell_type": "code",
   "execution_count": 86,
   "metadata": {},
   "outputs": [],
   "source": [
    "model.save('./Modelos/model_emmbeding.h5')"
   ]
  }
 ],
 "metadata": {
  "kernelspec": {
   "display_name": "Python 3",
   "language": "python",
   "name": "python3"
  },
  "language_info": {
   "codemirror_mode": {
    "name": "ipython",
    "version": 3
   },
   "file_extension": ".py",
   "mimetype": "text/x-python",
   "name": "python",
   "nbconvert_exporter": "python",
   "pygments_lexer": "ipython3",
   "version": "3.11.1"
  }
 },
 "nbformat": 4,
 "nbformat_minor": 2
}
